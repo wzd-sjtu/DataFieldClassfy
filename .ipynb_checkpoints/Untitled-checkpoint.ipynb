{
 "cells": [
  {
   "cell_type": "code",
   "execution_count": 8,
   "metadata": {},
   "outputs": [
    {
     "name": "stdout",
     "output_type": "stream",
     "text": [
      "00101010\n",
      "11010101\n",
      "3\n"
     ]
    }
   ],
   "source": [
    "data1 = \"00101010\"\n",
    "data2 = \"11010101\"\n",
    "data3 = \"00101011\"\n",
    "s = set([])\n",
    "\n",
    "begin_loc = 0\n",
    "end_loc = 8\n",
    "print(data1[begin_loc:end_loc+1])\n",
    "print(data2[begin_loc:end_loc+1])\n",
    "\n",
    "s.add(data1[begin_loc:end_loc+1])\n",
    "s.add(data2[begin_loc:end_loc+1])\n",
    "s.add(data3[begin_loc:end_loc+1])\n",
    "print(len(s))"
   ]
  }
 ],
 "metadata": {
  "kernelspec": {
   "display_name": "Python 3",
   "language": "python",
   "name": "python3"
  },
  "language_info": {
   "codemirror_mode": {
    "name": "ipython",
    "version": 3
   },
   "file_extension": ".py",
   "mimetype": "text/x-python",
   "name": "python",
   "nbconvert_exporter": "python",
   "pygments_lexer": "ipython3",
   "version": "3.8.3"
  }
 },
 "nbformat": 4,
 "nbformat_minor": 4
}
